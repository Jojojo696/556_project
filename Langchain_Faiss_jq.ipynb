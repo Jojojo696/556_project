{
 "cells": [
  {
   "cell_type": "markdown",
   "id": "3508d19f",
   "metadata": {},
   "source": [
    "# Question Answering Based on Contents from Blogs"
   ]
  },
  {
   "cell_type": "code",
   "execution_count": 1,
   "id": "865d3b7f",
   "metadata": {},
   "outputs": [],
   "source": [
    "# pip install langchain faiss-cpu jq "
   ]
  },
  {
   "cell_type": "markdown",
   "id": "d99dcbaf",
   "metadata": {},
   "source": [
    "### Data Preparing\n",
    "#### You can download dataset from here\n",
    "https://gist.github.com/jedrazb/0c9df82143b694147e7b018370508535"
   ]
  },
  {
   "cell_type": "code",
   "execution_count": 2,
   "id": "e1bdc8a1",
   "metadata": {},
   "outputs": [],
   "source": [
    "from langchain.document_loaders import JSONLoader\n",
    "\n",
    "def metadata_func(record: dict, metadata: dict) -> dict:\n",
    "\n",
    "    metadata[\"url\"] = record.get(\"url\")\n",
    "    metadata[\"title\"] = record.get(\"title\")\n",
    "    metadata[\"links\"] = record.get(\"links\")\n",
    "    metadata[\"meta_description\"] = record.get(\"meta_description\")\n",
    "\n",
    "    return metadata\n",
    "\n",
    "loader = JSONLoader(\n",
    "    file_path='./blog-pages.jsonl',\n",
    "    jq_schema='.',\n",
    "    content_key=\"body_content\",\n",
    "    metadata_func=metadata_func,\n",
    "    json_lines=True\n",
    ")\n",
    "data = loader.load()"
   ]
  },
  {
   "cell_type": "code",
   "execution_count": 3,
   "id": "aa7e4267",
   "metadata": {},
   "outputs": [
    {
     "name": "stdout",
     "output_type": "stream",
     "text": [
      "32 pubmed articles are loaded!\n"
     ]
    }
   ],
   "source": [
    "print(f\"{len(data)} pubmed articles are loaded!\")"
   ]
  },
  {
   "cell_type": "code",
   "execution_count": 4,
   "id": "9fa35890",
   "metadata": {},
   "outputs": [],
   "source": [
    "from langchain.text_splitter import TokenTextSplitter,CharacterTextSplitter\n",
    "\n",
    "text_splitter = TokenTextSplitter(chunk_size=128, chunk_overlap=50)\n",
    "\n",
    "chunks = text_splitter.split_documents(data)\n"
   ]
  },
  {
   "cell_type": "code",
   "execution_count": 5,
   "id": "bc2bcfd9",
   "metadata": {},
   "outputs": [
    {
     "name": "stdout",
     "output_type": "stream",
     "text": [
      "513\n"
     ]
    }
   ],
   "source": [
    "print(len(chunks))"
   ]
  },
  {
   "cell_type": "code",
   "execution_count": 6,
   "id": "47dc714f",
   "metadata": {},
   "outputs": [],
   "source": [
    "from langchain.embeddings import HuggingFaceEmbeddings\n",
    "\n",
    "# Using faiss index\n",
    "from langchain.vectorstores import FAISS"
   ]
  },
  {
   "cell_type": "code",
   "execution_count": 8,
   "id": "fef3c266",
   "metadata": {},
   "outputs": [
    {
     "name": "stderr",
     "output_type": "stream",
     "text": [
      "/Users/amy/Library/Python/3.8/lib/python/site-packages/sentence_transformers/cross_encoder/CrossEncoder.py:11: TqdmExperimentalWarning: Using `tqdm.autonotebook.tqdm` in notebook mode. Use `tqdm.tqdm` instead to force console mode (e.g. in jupyter console)\n",
      "  from tqdm.autonotebook import tqdm, trange\n",
      "/Users/amy/Library/Python/3.8/lib/python/site-packages/huggingface_hub/file_download.py:1132: FutureWarning: `resume_download` is deprecated and will be removed in version 1.0.0. Downloads always resume when possible. If you want to force a new download, use `force_download=True`.\n",
      "  warnings.warn(\n"
     ]
    }
   ],
   "source": [
    "modelPath = \"intfloat/e5-large-unsupervised\"\n",
    "embeddings = HuggingFaceEmbeddings(\n",
    "  model_name = modelPath,  \n",
    "  model_kwargs = {'device':'cpu'},\n",
    "  encode_kwargs={'normalize_embeddings':False}\n",
    ")\n",
    "\n",
    "\n",
    "db = FAISS.from_documents(chunks, embeddings)"
   ]
  },
  {
   "cell_type": "markdown",
   "id": "8d86c676",
   "metadata": {},
   "source": [
    "### Using similarity search to retrieve answer"
   ]
  },
  {
   "cell_type": "markdown",
   "id": "9fac60dd",
   "metadata": {},
   "source": [
    "#### Example question #1:"
   ]
  },
  {
   "cell_type": "code",
   "execution_count": 25,
   "id": "a1fceabd",
   "metadata": {
    "collapsed": true
   },
   "outputs": [
    {
     "name": "stdout",
     "output_type": "stream",
     "text": [
      "[Document(page_content=' snack packs - One to hold the telephoto lens, the other to carry a bottle of wine when needed. Gear Camping Tent: Big Agnes Copper Spur HV UL2. At ~1400g with its packable size, this tent has been accompanying me on bikepacking trips for the past few years. Sleeping Bag: Cumulus 0°C comfort. It weighs 850g. It’s a bit bulky, but I prefer to be a bit too warm rather than too cold at night. It fits well into the seat pack. Other camping gear: Stuff from Decathlon with a good price-to-weight ratio', metadata={'source': '/Users/amy/Desktop/project_attemp/blog-pages.jsonl', 'seq_num': 3, 'url': 'https://j.blaszyk.me/bikepacking-in-provence-france/', 'title': \"Bikepacking in France - Provence and Hautes-Alpes — Jedr's Blog\", 'links': ['http://parcduverdon.fr/', 'https://j.blaszyk.me/', 'https://j.blaszyk.me/', 'https://j.blaszyk.me/', 'https://j.blaszyk.me/bikepacking-in-provence-france/#alpes-de-haute-provence', 'https://j.blaszyk.me/bikepacking-in-provence-france/#bikepacking-setup', 'https://j.blaszyk.me/bikepacking-in-provence-france/#parc-naturel-r%C3%A9gional-du-verdon', 'https://j.blaszyk.me/bikepacking-in-provence-france/#photos', 'https://j.blaszyk.me/bikepacking-in-provence-france/#provence-tour-du-verdon', 'https://j.blaszyk.me/bikepacking-in-provence-france/#provence-tour-du-verdon', 'https://j.blaszyk.me/bikepacking-in-provence-france/#route', 'https://j.blaszyk.me/bikepacking-in-sweden/', 'https://j.blaszyk.me/contact/', 'https://j.blaszyk.me/kattegat-loop-bikepacking/', 'https://j.blaszyk.me/norway-bikepacking-trondheim-to-bergen/', 'https://j.blaszyk.me/static/1abff3d52c7ca2cf78a150878923e405/bd913/20230831-DSCF6323.jpg', 'https://j.blaszyk.me/static/2584aac8f08255fac8e4fe4b3dc457bf/bd913/20230829-DSCF6211.jpg', 'https://j.blaszyk.me/static/26b9e129a627a870014432e79b2edcf3/11fd5/20230829-DSCF6192.jpg', 'https://j.blaszyk.me/static/8a22231df5d0b8a3d963fc82ea3998a5/bd913/20230902-DSCF6464.jpg', 'https://j.blaszyk.me/static/c695b108009a8ef5de6362d38f45f4c1/bd913/20230828-DSCF6176.jpg', 'https://j.blaszyk.me/static/d2bc4c694b6f19b85972c9f50bf70d26/bd913/20230829-DSCF6198.jpg', 'https://j.blaszyk.me/static/ea2b9c580e9207f3d7d7dc591f842c7c/bd913/20230901-DSCF6400.jpg', 'https://j.blaszyk.me/static/f3fc6e02c5cfd394fa2d559e58b86119/bd913/20230901-DSCF6345.jpg', 'https://j.blaszyk.me/tech-blog/', 'https://j.blaszyk.me/through-the-lens/'], 'meta_description': 'Bikepacking adventure in southern France. Exploring the beauty of Provence in Verdon Natural Regional Park and conquering mountain passes of the Hautes-Alpes.'}), Document(page_content=' Mallorca, Spain • 13 Tenerife Pleasures December 12, 2022 • Tenerife • 17 Izery Mountains Bikepacking September 5, 2022 • Karkonosze, Poland • 11 Norway Bikepacking August 12, 2022 • Norway • 20 Iceland Roadtrip July 11, 2022 • Iceland • 19', metadata={'source': '/Users/amy/Desktop/project_attemp/blog-pages.jsonl', 'seq_num': 17, 'url': 'https://j.blaszyk.me/through-the-lens/', 'title': \"Through the Lens — Jedr's Blog\", 'links': ['https://github.com/jedrazb', 'https://j.blaszyk.me/', 'https://j.blaszyk.me/', 'https://j.blaszyk.me/contact/', 'https://j.blaszyk.me/rss.xml', 'https://j.blaszyk.me/sitemap-index.xml', 'https://j.blaszyk.me/tech-blog/', 'https://j.blaszyk.me/through-the-lens/', 'https://j.blaszyk.me/through-the-lens/end-of-summer-in-madeira/', 'https://j.blaszyk.me/through-the-lens/france-provence-bikepacking/', 'https://j.blaszyk.me/through-the-lens/iceland-4x4-roadtrip/', 'https://j.blaszyk.me/through-the-lens/izery-mountains-bikepacking/', 'https://j.blaszyk.me/through-the-lens/mallorca-in-spring/', 'https://j.blaszyk.me/through-the-lens/norway-bikepacking/', 'https://j.blaszyk.me/through-the-lens/tenerife-pleasures/', 'https://mobile.twitter.com/jedr_blaszyk', 'https://www.instagram.com/cycling.jedr/', 'https://www.linkedin.com/in/jedrzej-blaszyk/', 'https://www.strava.com/athletes/jedr_blaszyk'], 'meta_description': 'Capturing moments through the camera lens. Photo blog.'}), Document(page_content=' wind was not a big problem as for the majority of the route we were riding covered by trees. A gravel bike is advisible as much of the route leads along gravel and tarmac roads. 35mm-42mm tyres worked great for us. Route Stats Baltic Sea Cycle Route Distance: 895km Elevation: 5900m Time: 8 days Date: Jul 2020 Wild Camping “The Everyman’s Right” in Sweden allows people to camp anywhere in the wilderness as long as it is not private property. It makes bikepacking affordable in an otherwise expensive country. We camped in a wild camp for 8', metadata={'source': '/Users/amy/Desktop/project_attemp/blog-pages.jsonl', 'seq_num': 8, 'url': 'https://j.blaszyk.me/bikepacking-in-sweden/', 'title': \"Bikepacking & wild camping in Sweden — Jedr's Blog\", 'links': ['https://en.eurovelo.com/ev10', 'https://en.wikipedia.org/wiki/Freedom_to_roam', 'https://j.blaszyk.me/', 'https://j.blaszyk.me/', 'https://j.blaszyk.me/', 'https://j.blaszyk.me/bikepacking-in-sweden/#eurovelo-10', 'https://j.blaszyk.me/bikepacking-in-sweden/#image-gallery', 'https://j.blaszyk.me/bikepacking-in-sweden/#route', 'https://j.blaszyk.me/bikepacking-in-sweden/#route', 'https://j.blaszyk.me/bikepacking-in-sweden/#route-stats', 'https://j.blaszyk.me/bikepacking-in-sweden/#wild-camping', 'https://j.blaszyk.me/bikepacking-in-sweden/#wild-camping', 'https://j.blaszyk.me/bikepacking-in-sweden/#wild-camping-spots', 'https://j.blaszyk.me/bikepacking-in-sweden/#wild-camping-spots', 'https://j.blaszyk.me/bikepacking-in-sweden/#wilderness-shelters', 'https://j.blaszyk.me/contact/', 'https://j.blaszyk.me/static/274d4e1dce95f2e2e889d200acd25ec1/6933c/town.jpg', 'https://j.blaszyk.me/static/5239bf559c95702241f6b746963d63e7/6933c/camping-lake.jpg', 'https://j.blaszyk.me/static/6fdffac515d176b7a92a6c1c62d2fd26/6933c/campsite.jpg', 'https://j.blaszyk.me/static/8efe2f62af2462657942e15b689d07d3/95ac6/wildcamping.jpg', 'https://j.blaszyk.me/static/9293c83767fff148c2dfeddbd50f6d09/bd913/lake.jpg', 'https://j.blaszyk.me/static/d89384ef5142524fb80809c0773325f9/bd913/break.jpg', 'https://j.blaszyk.me/tech-blog/', 'https://j.blaszyk.me/through-the-lens/', 'https://www.gone71.com/shelters-in-sweden/'], 'meta_description': 'Baltic Sea, lakes and forests - 8 days of bikepacking and wild camping adventure.'}), Document(page_content=\" sustainable modes of transport. Their focus on creating an ecosystem around the cargo bike demonstrates their commitment to a broader vision – one where urban environments are less congested, less polluted, and more enjoyable for everyone. ←Bikepacking in France - Provence and Hautes-Alpes Work Bike Balance in Calpe→ Jedr's Blog Blog by Jedr Blaszyk .Tech, cycling, photography & travelling. Comments Contents Sustainable urban mobility Cargo bikes Why should you use a cargo bike? Hazay - cargo bikes made in Poland\", metadata={'source': '/Users/amy/Desktop/project_attemp/blog-pages.jsonl', 'seq_num': 9, 'url': 'https://j.blaszyk.me/cargo-bike-the-future-of-sustainable-urban-mobility/', 'title': \"Cargo Bike: The Future of Sustainable Urban Mobility — Jedr's Blog\", 'links': ['https://hazaybikes.com/en/', 'https://hazaybikes.com/en/accessories/', 'https://hazaybikes.com/en/product/box-cargo/', 'https://hazaybikes.com/en/product/child-seat/', 'https://hazaybikes.com/en/product/dog-carrier/', 'https://hazaybikes.com/en/product/hazay-buddy/', 'https://hazaybikes.com/en/product/hazay-family/', 'https://hazaybikes.com/en/product/rain-tent/', 'https://j.blaszyk.me/', 'https://j.blaszyk.me/', 'https://j.blaszyk.me/', 'https://j.blaszyk.me/cargo-bike-the-future-of-sustainable-urban-mobility/#cargo-bikes', 'https://j.blaszyk.me/cargo-bike-the-future-of-sustainable-urban-mobility/#cargo-bikes', 'https://j.blaszyk.me/cargo-bike-the-future-of-sustainable-urban-mobility/#hazay---cargo-bikes-made-in-poland', 'https://j.blaszyk.me/cargo-bike-the-future-of-sustainable-urban-mobility/#hazay---cargo-bikes-made-in-poland', 'https://j.blaszyk.me/cargo-bike-the-future-of-sustainable-urban-mobility/#sustainable-urban-mobility', 'https://j.blaszyk.me/cargo-bike-the-future-of-sustainable-urban-mobility/#sustainable-urban-mobility', 'https://j.blaszyk.me/cargo-bike-the-future-of-sustainable-urban-mobility/#why-should-you-use-a-cargo-bike', 'https://j.blaszyk.me/contact/', 'https://j.blaszyk.me/static/0a5e3aacb04b2542afe797ba06f1a995/bd913/cargo-bike-child-seat.jpg', 'https://j.blaszyk.me/static/4ec0503a21a5f8ed0cea93be43a4ff99/bd913/cargo-bike-rain-tent.jpg', 'https://j.blaszyk.me/static/b6e7c1999fc085805063e06b1d9a543b/bd913/cargo-bike-blog-image.jpg', 'https://j.blaszyk.me/static/e2f143a9a6e9fea9ba4838f95e304b1b/bd913/cargo-bike-kids.jpg', 'https://j.blaszyk.me/tech-blog/', 'https://j.blaszyk.me/through-the-lens/'], 'meta_description': 'Our cities are evolving, and bikes are a big part of that change. Can cargo bikes be the foundation of sustainable urban travel?'})]\n"
     ]
    }
   ],
   "source": [
    "query = \"What is a good tyre width for bikepacking trips?\"\n",
    "docs = db.similarity_search(query) \n",
    "print(docs)\n"
   ]
  },
  {
   "cell_type": "code",
   "execution_count": 26,
   "id": "788cf55a",
   "metadata": {},
   "outputs": [
    {
     "name": "stdout",
     "output_type": "stream",
     "text": [
      "Using context from 4 blog pages to answer the question:\n",
      "What is a good tyre width for bikepacking trips?\n",
      "\n",
      "- Bikepacking in France - Provence and Hautes-Alpes — Jedr's Blog https://j.blaszyk.me/bikepacking-in-provence-france/\n",
      "- Through the Lens — Jedr's Blog https://j.blaszyk.me/through-the-lens/\n",
      "- Bikepacking & wild camping in Sweden — Jedr's Blog https://j.blaszyk.me/bikepacking-in-sweden/\n",
      "- Cargo Bike: The Future of Sustainable Urban Mobility — Jedr's Blog https://j.blaszyk.me/cargo-bike-the-future-of-sustainable-urban-mobility/\n"
     ]
    }
   ],
   "source": [
    "print(f'Using context from {len(docs)} blog pages to answer the question:')\n",
    "print(f'{query}\\n')\n",
    "\n",
    "for doc in docs:\n",
    "    page_title=doc.metadata.get('title')\n",
    "    link=doc.metadata.get('url')\n",
    "    print(f'- {page_title + \" \" + link}')\n"
   ]
  },
  {
   "cell_type": "markdown",
   "id": "4b822441",
   "metadata": {},
   "source": [
    "#### Example question #2:"
   ]
  },
  {
   "cell_type": "code",
   "execution_count": 16,
   "id": "7ace21a3",
   "metadata": {},
   "outputs": [
    {
     "name": "stdout",
     "output_type": "stream",
     "text": [
      "Using context from 4 blog pages to answer the question:\n",
      "What is the most popular ways to hike?\n",
      "\n",
      "- Work Bike Balance in Calpe — Jedr's Blog https://j.blaszyk.me/work-bike-balance-in-calpe/\n",
      "- Tuscany Trail: Bikepacking in Italy — Jedr's Blog https://j.blaszyk.me/tuscany-trail-bikepacking-in-italy/\n",
      "- Exploring Apache Lucene - Part 3: Running at Scale — Jedr's Blog https://j.blaszyk.me/tech-blog/exploring-apache-lucene-scale/\n",
      "- Norway Bikepacking: Trondheim to Bergen — Jedr's Blog https://j.blaszyk.me/norway-bikepacking-trondheim-to-bergen/\n"
     ]
    }
   ],
   "source": [
    "query = \"What is the most popular ways to hike?\"\n",
    "docs = db.similarity_search(query) \n",
    "print(f'Using context from {len(docs)} blog pages to answer the question:')\n",
    "print(f'{query}\\n')\n",
    "\n",
    "for doc in docs:\n",
    "    page_title=doc.metadata.get('title')\n",
    "    link=doc.metadata.get('url')\n",
    "    print(f'- {page_title + \" \" + link}')\n"
   ]
  },
  {
   "cell_type": "markdown",
   "id": "c982a13d",
   "metadata": {},
   "source": [
    "### Generate Answer with QA models"
   ]
  },
  {
   "cell_type": "code",
   "execution_count": 17,
   "id": "d9798e41",
   "metadata": {},
   "outputs": [],
   "source": [
    "from transformers import pipeline\n",
    "import torch\n",
    "\n",
    "qa_model = pipeline(\"question-answering\", model=\"distilbert/distilbert-base-cased-distilled-squad\", torch_dtype=torch.float32)"
   ]
  },
  {
   "cell_type": "code",
   "execution_count": 28,
   "id": "12e28294",
   "metadata": {},
   "outputs": [],
   "source": [
    "def questoion_answering_func(question):\n",
    "    print (f'Question: {question}\\n')\n",
    "    retriever=db.as_retriever(k=2)\n",
    "    context_docs = retriever.invoke(question)\n",
    "    context = \" \".join([doc.page_content for doc in context_docs])\n",
    "    print(f'Using context from {len(context_docs)} blog pages to answer the question:\\n')\n",
    "    printExplanation(context_docs)\n",
    "    print_qa_response(question, context)\n",
    "    \n",
    "\n",
    "def printExplanation(docs):\n",
    "    for doc in docs:\n",
    "        page_title=doc.metadata.get('title')\n",
    "        link=doc.metadata.get('url')\n",
    "        print(f'- {page_title + \" \" + link}')\n",
    "        \n",
    "def print_qa_response(question, context):\n",
    "    qa_response = qa_model(question = question, context = context)\n",
    "    print(f'\\nAnswer: {qa_response[\"answer\"]}')"
   ]
  },
  {
   "cell_type": "code",
   "execution_count": 30,
   "id": "0aead8d0",
   "metadata": {},
   "outputs": [
    {
     "name": "stdout",
     "output_type": "stream",
     "text": [
      "Question: What is a good tyre width for bikepacking trips?\n",
      "\n",
      "Using context from 4 blog pages to answer the question:\n",
      "\n",
      "- Bikepacking in France - Provence and Hautes-Alpes — Jedr's Blog https://j.blaszyk.me/bikepacking-in-provence-france/\n",
      "- Through the Lens — Jedr's Blog https://j.blaszyk.me/through-the-lens/\n",
      "- Bikepacking & wild camping in Sweden — Jedr's Blog https://j.blaszyk.me/bikepacking-in-sweden/\n",
      "- Cargo Bike: The Future of Sustainable Urban Mobility — Jedr's Blog https://j.blaszyk.me/cargo-bike-the-future-of-sustainable-urban-mobility/\n",
      "\n",
      "Answer: 35mm-42mm\n"
     ]
    }
   ],
   "source": [
    "question_1 = \"What is a good tyre width for bikepacking trips?\"\n",
    "questoion_answering_func(question_1)\n"
   ]
  },
  {
   "cell_type": "code",
   "execution_count": 34,
   "id": "8986cc10",
   "metadata": {},
   "outputs": [
    {
     "name": "stdout",
     "output_type": "stream",
     "text": [
      "Question: What is a good clothes for hiking?\n",
      "\n",
      "Using context from 4 blog pages to answer the question:\n",
      "\n",
      "- Bikepacking in France - Provence and Hautes-Alpes — Jedr's Blog https://j.blaszyk.me/bikepacking-in-provence-france/\n",
      "- Bikepacking in France - Provence and Hautes-Alpes — Jedr's Blog https://j.blaszyk.me/bikepacking-in-provence-france/\n",
      "- Exploring Apache Lucene - Part 3: Running at Scale — Jedr's Blog https://j.blaszyk.me/tech-blog/exploring-apache-lucene-scale/\n",
      "- Gravmageddon 2023: Karkonosze - Izery Gravel Race — Jedr's Blog https://j.blaszyk.me/gravmageddon-2023-karkonosze-izery-gravel-race/\n",
      "\n",
      "Answer: Stuff from Decathlon\n"
     ]
    }
   ],
   "source": [
    "question_2 = \"What is a good clothes for hiking?\"\n",
    "questoion_answering_func(question_2)"
   ]
  },
  {
   "cell_type": "code",
   "execution_count": null,
   "id": "469281c3",
   "metadata": {},
   "outputs": [],
   "source": []
  }
 ],
 "metadata": {
  "kernelspec": {
   "display_name": "Python 3 (ipykernel)",
   "language": "python",
   "name": "python3"
  },
  "language_info": {
   "codemirror_mode": {
    "name": "ipython",
    "version": 3
   },
   "file_extension": ".py",
   "mimetype": "text/x-python",
   "name": "python",
   "nbconvert_exporter": "python",
   "pygments_lexer": "ipython3",
   "version": "3.8.2"
  }
 },
 "nbformat": 4,
 "nbformat_minor": 5
}
