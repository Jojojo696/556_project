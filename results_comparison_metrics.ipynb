{
 "cells": [
  {
   "cell_type": "code",
   "execution_count": 1,
   "id": "bf43b1eb",
   "metadata": {},
   "outputs": [],
   "source": [
    "import evaluate\n",
    "import pandas as pd"
   ]
  },
  {
   "cell_type": "code",
   "execution_count": 2,
   "id": "2abaa972",
   "metadata": {},
   "outputs": [],
   "source": [
    "# BLEU score\n",
    "def bleu_score(s1, s2):\n",
    "    bleu = evaluate.load(\"bleu\")\n",
    "    result = bleu.compute(predictions=s1, references=s2)\n",
    "    return result"
   ]
  },
  {
   "cell_type": "code",
   "execution_count": 3,
   "id": "0ccc07fe-2322-4e66-b153-d217b980630f",
   "metadata": {},
   "outputs": [],
   "source": [
    "# ROUGE score\n",
    "def rouge_score(s1, s2):\n",
    "    rouge = evaluate.load('rouge')\n",
    "    result = rouge.compute(predictions=s1,references=s2)\n",
    "    return result"
   ]
  },
  {
   "cell_type": "code",
   "execution_count": 4,
   "id": "9fafc41d",
   "metadata": {},
   "outputs": [],
   "source": [
    "# all-MiniLM-L6-v2 + distilbert/distilbert-base-cased-distilled-squad\n",
    "df1 = pd.read_csv('model_results/mini_dis.csv')\n",
    "\n",
    "ref1 = df1['reference_answer'].tolist()\n",
    "ref1_bleu = [[ra] for ra in ref1]\n",
    "pre1 = df1['predict_answer_02(rag model)'].tolist()\n",
    "\n",
    "res1_bleu = bleu_score(pre1, ref1_bleu)\n",
    "res1_rouge = rouge_score(pre1, ref1)\n",
    "\n",
    "runtime1 = df1['run_time (unit: s)'].mean()"
   ]
  },
  {
   "cell_type": "code",
   "execution_count": 5,
   "id": "4522da1c",
   "metadata": {},
   "outputs": [
    {
     "data": {
      "text/plain": [
       "({'bleu': 1.9109566130130727e-06,\n",
       "  'precisions': [0.8611111111111112,\n",
       "   0.8076923076923077,\n",
       "   0.7368421052631579,\n",
       "   0.7142857142857143],\n",
       "  'brevity_penalty': 2.456761185699623e-06,\n",
       "  'length_ratio': 0.0718562874251497,\n",
       "  'translation_length': 36,\n",
       "  'reference_length': 501},\n",
       " {'rouge1': 0.1524074156955152,\n",
       "  'rouge2': 0.1054058143250645,\n",
       "  'rougeL': 0.15114400519297425,\n",
       "  'rougeLsum': 0.1530206380061826},\n",
       " 1.1816762924)"
      ]
     },
     "execution_count": 5,
     "metadata": {},
     "output_type": "execute_result"
    }
   ],
   "source": [
    "res1_bleu, res1_rouge, runtime1"
   ]
  },
  {
   "cell_type": "code",
   "execution_count": 6,
   "id": "1fd794a1-5887-40ea-9b6c-57dee7132ffa",
   "metadata": {},
   "outputs": [],
   "source": [
    "# all-mpnet-base-v2 + distilbert/distilbert-base-cased-distilled-squad\n",
    "df2 = pd.read_csv('model_results/mp_dis.csv')\n",
    "\n",
    "ref2 = df2['reference_answer'].tolist()\n",
    "ref2_bleu = [[ra] for ra in ref2]\n",
    "pre2 = df2['predict_answer_02(rag model)'].tolist()\n",
    "\n",
    "res2_bleu = bleu_score(pre2, ref2_bleu)\n",
    "res2_rouge = rouge_score(pre2, ref2)\n",
    "\n",
    "runtime2 = df2['run_time (unit: s)'].mean()"
   ]
  },
  {
   "cell_type": "code",
   "execution_count": 7,
   "id": "c3037376-f324-4300-9a56-673ee44af8f6",
   "metadata": {},
   "outputs": [
    {
     "data": {
      "text/plain": [
       "({'bleu': 9.858634486177437e-06,\n",
       "  'precisions': [0.8536585365853658, 0.7741935483870968, 0.68, 0.65],\n",
       "  'brevity_penalty': 1.3409968695045071e-05,\n",
       "  'length_ratio': 0.08183632734530938,\n",
       "  'translation_length': 41,\n",
       "  'reference_length': 501},\n",
       " {'rouge1': 0.16224160036924967,\n",
       "  'rouge2': 0.1108271306862305,\n",
       "  'rougeL': 0.15758767645569066,\n",
       "  'rougeLsum': 0.1588738537058787},\n",
       " 1.1404136657)"
      ]
     },
     "execution_count": 7,
     "metadata": {},
     "output_type": "execute_result"
    }
   ],
   "source": [
    "res2_bleu, res2_rouge, runtime2"
   ]
  },
  {
   "cell_type": "code",
   "execution_count": 16,
   "id": "ffb9849d-eed5-4e60-935f-da9444406d60",
   "metadata": {},
   "outputs": [],
   "source": [
    "# all-MiniLM-L6-v2 + OLMo: no context\n",
    "df3 = pd.read_csv('model_results/mini_olmo.csv')\n",
    "df3 = df3[:10]\n",
    "\n",
    "ref3 = df3['reference_answer'].tolist()\n",
    "ref3_bleu = [[ra] for ra in ref3]\n",
    "pre3 = df3['predict_answer_01(no context model)'].tolist()\n",
    "\n",
    "res3_bleu = bleu_score(pre3, ref3_bleu)\n",
    "res3_rouge = rouge_score(pre3, ref3)\n",
    "\n",
    "runtime3 = df3['run_time (unit: s)'].mean()"
   ]
  },
  {
   "cell_type": "code",
   "execution_count": 17,
   "id": "74e2687b-e2f4-4071-8843-e0910c04e266",
   "metadata": {},
   "outputs": [
    {
     "data": {
      "text/plain": [
       "({'bleu': 0.0,\n",
       "  'precisions': [0.17849462365591398,\n",
       "   0.035164835164835165,\n",
       "   0.006741573033707865,\n",
       "   0.0],\n",
       "  'brevity_penalty': 0.9255016586176857,\n",
       "  'length_ratio': 0.9281437125748503,\n",
       "  'translation_length': 465,\n",
       "  'reference_length': 501},\n",
       " {'rouge1': 0.15260360506989995,\n",
       "  'rouge2': 0.03730780172885435,\n",
       "  'rougeL': 0.11062998441462144,\n",
       "  'rougeLsum': 0.11054174403391961},\n",
       " 64.289510512)"
      ]
     },
     "execution_count": 17,
     "metadata": {},
     "output_type": "execute_result"
    }
   ],
   "source": [
    "res3_bleu, res3_rouge, runtime3"
   ]
  },
  {
   "cell_type": "code",
   "execution_count": 19,
   "id": "4a14ea12-8063-46d7-b5ef-ca9b1e0a22f8",
   "metadata": {},
   "outputs": [],
   "source": [
    "# all-MiniLM-L6-v2 + OLMo: context\n",
    "pre4 = df3['predict_answer_02(rag model)'].tolist()\n",
    "\n",
    "res4_bleu = bleu_score(pre4, ref3_bleu)\n",
    "res4_rouge = rouge_score(pre4, ref3)\n",
    "\n",
    "runtime4 = df3['run_time (unit: s).1'].mean()"
   ]
  },
  {
   "cell_type": "code",
   "execution_count": 20,
   "id": "fe5e00ff-b435-482d-9da4-d09fcb6e83a6",
   "metadata": {},
   "outputs": [
    {
     "data": {
      "text/plain": [
       "({'bleu': 0.04475797178491108,\n",
       "  'precisions': [0.1795774647887324,\n",
       "   0.05595026642984014,\n",
       "   0.025985663082437275,\n",
       "   0.015370705244122965],\n",
       "  'brevity_penalty': 1.0,\n",
       "  'length_ratio': 2.2674650698602794,\n",
       "  'translation_length': 1136,\n",
       "  'reference_length': 501},\n",
       " {'rouge1': 0.2896253811654588,\n",
       "  'rouge2': 0.11512477969115435,\n",
       "  'rougeL': 0.21048541803378723,\n",
       "  'rougeLsum': 0.21307941491397647},\n",
       " 107.487441888)"
      ]
     },
     "execution_count": 20,
     "metadata": {},
     "output_type": "execute_result"
    }
   ],
   "source": [
    "res4_bleu, res4_rouge, runtime4"
   ]
  },
  {
   "cell_type": "code",
   "execution_count": 30,
   "id": "36737fe1-a11e-42b7-9ed9-1d37fef5cd9d",
   "metadata": {},
   "outputs": [],
   "source": [
    "# all-mpnet-base-v2 + OLMo: no context\n",
    "df5 = pd.read_csv('model_results/mp_olmo.csv')\n",
    "df5 = df5[:10]\n",
    "\n",
    "ref5 = df5['reference_answer'].tolist()\n",
    "ref5_bleu = [[ra] for ra in ref5]\n",
    "pre5 = df5['predict_answer_01(no context model)'].tolist()\n",
    "\n",
    "res5_bleu = bleu_score(pre5, ref5_bleu)\n",
    "res5_rouge = rouge_score(pre5, ref5)\n",
    "\n",
    "runtime5 = df5['run_time (unit: s)'].mean()"
   ]
  },
  {
   "cell_type": "code",
   "execution_count": 31,
   "id": "65a1988a-1488-4551-9974-bfe35c6f8a83",
   "metadata": {},
   "outputs": [
    {
     "data": {
      "text/plain": [
       "({'bleu': 0.016485732633162022,\n",
       "  'precisions': [0.286144578313253,\n",
       "   0.046583850931677016,\n",
       "   0.01282051282051282,\n",
       "   0.0033112582781456954],\n",
       "  'brevity_penalty': 0.6010746487566252,\n",
       "  'length_ratio': 0.6626746506986028,\n",
       "  'translation_length': 332,\n",
       "  'reference_length': 501},\n",
       " {'rouge1': 0.21040996347622581,\n",
       "  'rouge2': 0.044013452640874876,\n",
       "  'rougeL': 0.15432464272407018,\n",
       "  'rougeLsum': 0.1565172755255232},\n",
       " 55.840623355000005)"
      ]
     },
     "execution_count": 31,
     "metadata": {},
     "output_type": "execute_result"
    }
   ],
   "source": [
    "res5_bleu, res5_rouge, runtime5"
   ]
  },
  {
   "cell_type": "code",
   "execution_count": 32,
   "id": "f59c8766-fa99-4637-9b54-72be0f7b7bc2",
   "metadata": {},
   "outputs": [],
   "source": [
    "# all-mpnet-base-v2 + OLMo: context\n",
    "pre6 = df3['predict_answer_02(rag model)'].tolist()\n",
    "\n",
    "res6_bleu = bleu_score(pre6, ref5_bleu)\n",
    "res6_rouge = rouge_score(pre6, ref5)\n",
    "\n",
    "runtime6 = df5['run_time (unit: s).1'].mean()"
   ]
  },
  {
   "cell_type": "code",
   "execution_count": 33,
   "id": "9dde0589-d7e2-49f7-82c1-f9480844d762",
   "metadata": {},
   "outputs": [
    {
     "data": {
      "text/plain": [
       "({'bleu': 0.04475797178491108,\n",
       "  'precisions': [0.1795774647887324,\n",
       "   0.05595026642984014,\n",
       "   0.025985663082437275,\n",
       "   0.015370705244122965],\n",
       "  'brevity_penalty': 1.0,\n",
       "  'length_ratio': 2.2674650698602794,\n",
       "  'translation_length': 1136,\n",
       "  'reference_length': 501},\n",
       " {'rouge1': 0.2896253811654588,\n",
       "  'rouge2': 0.11512477969115435,\n",
       "  'rougeL': 0.21048541803378723,\n",
       "  'rougeLsum': 0.21307941491397647},\n",
       " 110.49867651899999)"
      ]
     },
     "execution_count": 33,
     "metadata": {},
     "output_type": "execute_result"
    }
   ],
   "source": [
    "res6_bleu, res6_rouge, runtime6"
   ]
  },
  {
   "cell_type": "code",
   "execution_count": null,
   "id": "2966ca7c-ac5b-441c-bf32-76a5f3ba6a48",
   "metadata": {},
   "outputs": [],
   "source": []
  }
 ],
 "metadata": {
  "kernelspec": {
   "display_name": "Python 3 (ipykernel)",
   "language": "python",
   "name": "python3"
  },
  "language_info": {
   "codemirror_mode": {
    "name": "ipython",
    "version": 3
   },
   "file_extension": ".py",
   "mimetype": "text/x-python",
   "name": "python",
   "nbconvert_exporter": "python",
   "pygments_lexer": "ipython3",
   "version": "3.12.3"
  }
 },
 "nbformat": 4,
 "nbformat_minor": 5
}
